{
 "cells": [
  {
   "cell_type": "markdown",
   "id": "dc90593c-99e6-402c-ac04-960efcec1501",
   "metadata": {},
   "source": [
    "<h1><center>Basic Statistics Assignment-2</center></h1>"
   ]
  },
  {
   "cell_type": "markdown",
   "id": "bfc14b2d-67fd-4d56-92e5-bae8b871ba9e",
   "metadata": {},
   "source": [
    "# Estimation And Confidence Intervals"
   ]
  },
  {
   "cell_type": "markdown",
   "id": "3695453f-2081-49fe-81a5-ac85f5971ceb",
   "metadata": {},
   "source": [
    "### Data:\n",
    "A total of 15 print-heads were randomly selected and tested until failure. The durability of each print-head (in millions of characters) was recorded as follows:\n",
    "\n",
    "[1.13, 1.55, 1.43, 0.92, 1.25, 1.36, 1.32, 0.85, 1.07, 1.48, 1.20, 1.33, 1.18, 1.22, 1.29]\n"
   ]
  },
  {
   "cell_type": "code",
   "execution_count": 21,
   "id": "5c5e19eb-050f-4054-bed4-4273a811b087",
   "metadata": {},
   "outputs": [
    {
     "name": "stdout",
     "output_type": "stream",
     "text": [
      "number of samples: 15\n",
      "Sample Mean: 1.2386666666666666\n",
      "Sample Standard Deviation: 0.19316412956959936\n"
     ]
    }
   ],
   "source": [
    "import numpy as np # import numpy library for perfoming statistics\n",
    "data = np.array([1.13, 1.55, 1.43, 0.92, 1.25, 1.36, 1.32, 0.85, 1.07, 1.48, 1.20, 1.33, 1.18, 1.22, 1.29]) #input data into an array\n",
    "n = len(data) # gives the size of the sample\n",
    "mean = np.mean(data)\n",
    "std = np.std(data,ddof = 1)\n",
    "print(\"number of samples:\",n)\n",
    "print(\"Sample Mean:\",mean)\n",
    "print(\"Sample Standard Deviation:\",std)"
   ]
  },
  {
   "cell_type": "markdown",
   "id": "fa4889fd-5cb3-42e2-96d8-7c39468897fc",
   "metadata": {},
   "source": [
    "### a. Build 99% Confidence Interval Using Sample Standard Deviation (t-distribution)\n",
    "Assuming the sample is representative of the population, construct a 99% confidence interval for the mean number of characters printed before the print-head fails using the sample standard deviation. Explain the steps you take and the rationale behind using the t-distribution for this task.\n"
   ]
  },
  {
   "cell_type": "markdown",
   "id": "256a1b2f-7d53-46b7-8472-e14b70c5a7e5",
   "metadata": {},
   "source": [
    "## T - Distribution\n",
    "1. We use T - distribution if the sample size is small(n<30).\n",
    "2. When the Population standard deviation is unknown.\n",
    "3. When the Sample is random and approximately normal."
   ]
  },
  {
   "cell_type": "code",
   "execution_count": 22,
   "id": "16945d88-0320-4e30-a4be-791dd1d89c4f",
   "metadata": {},
   "outputs": [],
   "source": [
    "# Finding t- critical value\n",
    "from scipy import stats\n",
    "confidence = 0.99 # given to build a 99% confidence interval\n",
    "alpha = 1-confidence\n",
    "deg_freedom = n - 1 # degrees of freedom \n",
    "t_critical = stats.t.ppf(1-(alpha/2), deg_freedom)   # two tailed t-value\n",
    "# stats.t is the t - distribution function from scipy.stats library, .ppf stands for percent point function it is inverse of CDF"
   ]
  },
  {
   "cell_type": "code",
   "execution_count": 23,
   "id": "6fab7cb0-3451-42e1-b274-926b47dd7a74",
   "metadata": {},
   "outputs": [
    {
     "data": {
      "text/plain": [
       "(1.0901973384384906, 1.3871359948948425)"
      ]
     },
     "execution_count": 23,
     "metadata": {},
     "output_type": "execute_result"
    }
   ],
   "source": [
    "# Now Compute margin of error and build confidence interval\n",
    "margin_of_error = t_critical*(std/np.sqrt(n))\n",
    "# Upper and Lower Confidence intervals\n",
    "CI_lower = mean - margin_of_error\n",
    "CI_upper = mean + margin_of_error\n",
    "\n",
    "CI_T = (CI_lower,CI_upper)\n",
    "CI_T"
   ]
  },
  {
   "cell_type": "code",
   "execution_count": 30,
   "id": "8e9694b5-ecaf-4e75-9a97-2d1b2ef34a5a",
   "metadata": {},
   "outputs": [
    {
     "name": "stdout",
     "output_type": "stream",
     "text": [
      "RESULT:\n",
      "Sample Mean: 1.2387\n",
      "Sample Standard Deviation: 0.1932\n",
      "T-Critical value: 2.9768\n",
      "99% confidence interval for the mean number of characters printed before the print-head fails : [1.0902, 1.0902]\n"
     ]
    }
   ],
   "source": [
    "print(\"RESULT:\")\n",
    "print(\"Sample Mean:\",np.round(mean,4))\n",
    "print(\"Sample Standard Deviation:\",np.round(std,4))\n",
    "print(\"T-Critical value:\",np.round(t_critical,4))\n",
    "print(\"99% confidence interval for the mean number of characters printed before the print-head fails :\",[np.round(CI_lower,4),np.round(CI_lower,4)])"
   ]
  },
  {
   "cell_type": "markdown",
   "id": "8d0a6fc3-8270-442c-b349-e01a2ceda634",
   "metadata": {},
   "source": [
    " "
   ]
  },
  {
   "cell_type": "markdown",
   "id": "568b4e69-1ad8-4590-ae74-2b4f3daf8c4e",
   "metadata": {},
   "source": [
    "### b. Build 99% Confidence Interval Using Known Population Standard Deviation(z-distibution)\n",
    "If it were known that the population standard deviation is 0.2 million characters, construct a 99% confidence interval for the mean number of characters printed before failure.\n"
   ]
  },
  {
   "cell_type": "markdown",
   "id": "396f3573-f3d1-46da-a8ce-d4877a6b9e03",
   "metadata": {},
   "source": [
    "## Z - Distribution:\n",
    "1. Z - Distribution is used When the population standard deviation is known.\n",
    "2. When the sample is random and data is approximately normal."
   ]
  },
  {
   "cell_type": "code",
   "execution_count": 25,
   "id": "9e94d341-9efc-4103-a18b-aa3e696d4080",
   "metadata": {},
   "outputs": [],
   "source": [
    "pop_std = 0.2 # known population standard deviation\n",
    "# Find z_critical value\n",
    "z_critical = stats.norm.ppf(1-(alpha/2)) # alpha is same as above as confidence is 0.99\n",
    "# stats.norm gives z-score(standard normal value)\n"
   ]
  },
  {
   "cell_type": "code",
   "execution_count": 26,
   "id": "c97bc214-1b5b-4d68-a04f-658a821da631",
   "metadata": {},
   "outputs": [
    {
     "data": {
      "text/plain": [
       "(1.1056514133957607, 1.3716819199375725)"
      ]
     },
     "execution_count": 26,
     "metadata": {},
     "output_type": "execute_result"
    }
   ],
   "source": [
    "# Now Compute margin of error and build confidence interval\n",
    "margin_of_error_z = z_critical*(pop_std/np.sqrt(n))\n",
    "# Upper and Lower Confidence intervals\n",
    "CI_lower_z = mean - margin_of_error_z\n",
    "CI_upper_z = mean + margin_of_error_z\n",
    "\n",
    "CI_Z = (CI_lower_z,CI_upper_z)\n",
    "CI_Z"
   ]
  },
  {
   "cell_type": "code",
   "execution_count": 31,
   "id": "4b10066e-efb0-49a4-bd4c-20776c09007e",
   "metadata": {},
   "outputs": [
    {
     "name": "stdout",
     "output_type": "stream",
     "text": [
      "RESULT:\n",
      "Known Population Standard Deviation: 0.2\n",
      "Z-Critical value: 2.5758\n",
      "99% confidence interval for the mean number of characters printed before failure: [1.1057, 1.1057]\n"
     ]
    }
   ],
   "source": [
    "print(\"RESULT:\")\n",
    "print(\"Known Population Standard Deviation:\",pop_std)\n",
    "print(\"Z-Critical value:\",np.round(z_critical,4))\n",
    "print(\"99% confidence interval for the mean number of characters printed before failure:\",[np.round(CI_lower_z,4),np.round(CI_lower_z,4)])"
   ]
  },
  {
   "cell_type": "code",
   "execution_count": null,
   "id": "b2b43729-5228-4438-9819-0e3b4e7b1a29",
   "metadata": {},
   "outputs": [],
   "source": []
  }
 ],
 "metadata": {
  "kernelspec": {
   "display_name": "Python 3 (ipykernel)",
   "language": "python",
   "name": "python3"
  },
  "language_info": {
   "codemirror_mode": {
    "name": "ipython",
    "version": 3
   },
   "file_extension": ".py",
   "mimetype": "text/x-python",
   "name": "python",
   "nbconvert_exporter": "python",
   "pygments_lexer": "ipython3",
   "version": "3.12.7"
  }
 },
 "nbformat": 4,
 "nbformat_minor": 5
}
